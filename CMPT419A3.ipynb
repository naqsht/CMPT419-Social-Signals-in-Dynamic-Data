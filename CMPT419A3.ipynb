{
  "nbformat": 4,
  "nbformat_minor": 0,
  "metadata": {
    "colab": {
      "name": "CMPT419A3_final.ipynb",
      "provenance": []
    },
    "kernelspec": {
      "name": "python3",
      "display_name": "Python 3"
    }
  },
  "cells": [
    {
      "cell_type": "code",
      "metadata": {
        "id": "s3OjBclWbkwY",
        "colab_type": "code",
        "colab": {
          "base_uri": "https://localhost:8080/",
          "height": 35
        },
        "outputId": "685d7e19-094f-4b93-df4e-4ced380fcbf5"
      },
      "source": [
        "from google.colab import drive\n",
        "drive.mount('/content/drive')"
      ],
      "execution_count": 183,
      "outputs": [
        {
          "output_type": "stream",
          "text": [
            "Drive already mounted at /content/drive; to attempt to forcibly remount, call drive.mount(\"/content/drive\", force_remount=True).\n"
          ],
          "name": "stdout"
        }
      ]
    },
    {
      "cell_type": "code",
      "metadata": {
        "id": "LQIQ5zX9oWOg",
        "colab_type": "code",
        "colab": {}
      },
      "source": [
        "# For this assignment, I decided to study the emotion of HAPPINESS\n",
        "\n",
        "# Task 1:\n",
        "# I generated a dataset of 200 samples from the given link and generated their corresponding csv files\n",
        "# However, out of the 200 samples, I got csv files for 126 samples, because the other onedid not contain a face\n",
        "# or simply could not be processed by OpenFace\n",
        "\n",
        "# You can find the csv and gif files in my submission"
      ],
      "execution_count": null,
      "outputs": []
    },
    {
      "cell_type": "code",
      "metadata": {
        "id": "XOnRoARp7S5u",
        "colab_type": "code",
        "colab": {}
      },
      "source": [
        "# Task 2:\n",
        "# The approach that I followed was to generate a K-Means model\n",
        "# For that I decided to use Silhouette values as well as manual visualisation to determine the\n",
        "# optimal number of clusters for the K-Means Model"
      ],
      "execution_count": null,
      "outputs": []
    },
    {
      "cell_type": "code",
      "metadata": {
        "id": "QUajGROOb8Lc",
        "colab_type": "code",
        "colab": {}
      },
      "source": [
        "# I started with importing the csv files and concatenating it into one large dataframe\n",
        "\n",
        "import pandas as pd\n",
        "import glob\n",
        "\n",
        "# Set the path to the csv files\n",
        "path = r'/content/drive/My Drive/happiness_csv'\n",
        "all_files = glob.glob(path + \"/*.csv\")\n",
        "\n",
        "li = []\n",
        "\n",
        "# Read and append csv files to create a large dataframe\n",
        "for filename in all_files:\n",
        "    df = pd.read_csv(filename, index_col=None, header=0)\n",
        "    df[\"file_name\"] = str(filename)[38:-4]\n",
        "    li.append(df)\n",
        "\n",
        "# Concatenate the dataframe together\n",
        "frame = pd.concat(li, axis=0, ignore_index=True)\n",
        "\n",
        "# Convert the dataframe into a csv file (if needed)\n",
        "# frame.to_csv(r'/content/drive/My Drive/dframe.csv', index = False)"
      ],
      "execution_count": 184,
      "outputs": []
    },
    {
      "cell_type": "code",
      "metadata": {
        "id": "Pp0oFSiJcAAX",
        "colab_type": "code",
        "colab": {}
      },
      "source": [
        "# Make a column list which considers the columns with AUs in csv files\n",
        "colList = [' AU01_r',' AU02_r',' AU04_r',' AU05_r',' AU06_r',' AU07_r',' AU09_r',' AU10_r',' AU12_r',' AU14_r',' AU15_r',' AU17_r',' AU20_r',' AU23_r',' AU25_r',' AU26_r',' AU45_r',' AU01_c',' AU02_c',' AU04_c',' AU05_c',' AU06_c',' AU07_c',' AU09_c',' AU10_c',' AU12_c',' AU14_c',' AU15_c',' AU17_c',' AU20_c',' AU23_c',' AU25_c',' AU26_c',' AU28_c',' AU45_c',]\n",
        "frame_au = frame[colList]"
      ],
      "execution_count": 185,
      "outputs": []
    },
    {
      "cell_type": "code",
      "metadata": {
        "id": "2YBTPCpRcs3Y",
        "colab_type": "code",
        "colab": {}
      },
      "source": [
        "# Standard imports required\n",
        "import os\n",
        "%matplotlib inline\n",
        "import matplotlib.pyplot as plt\n",
        "import seaborn as sns; sns.set()\n",
        "import numpy as np\n",
        "from sklearn import mixture"
      ],
      "execution_count": 186,
      "outputs": []
    },
    {
      "cell_type": "code",
      "metadata": {
        "id": "_geGkTsWcBO3",
        "colab_type": "code",
        "colab": {}
      },
      "source": [
        "import umap\n",
        "\n",
        "# Applying UMAP to do Dimensionality Reduction to 2 dimensions\n",
        "# Using the default n_neighbors value of 15\n",
        "frame_au_2d = umap.UMAP(n_neighbors=15).fit_transform(frame_au)   # frame_au_2d is the dataframe after being reduced to 2 dimensions\n",
        "\n",
        "# I tried not using UMAP,since we are using K Means, but the multi-dimensional data was taking very long to run\n",
        "# Also, I could not plot the graph with the clusters without using UMAP, so I decided to use UMAP"
      ],
      "execution_count": 187,
      "outputs": []
    },
    {
      "cell_type": "code",
      "metadata": {
        "id": "85Im2_KNcJOg",
        "colab_type": "code",
        "colab": {
          "base_uri": "https://localhost:8080/",
          "height": 289
        },
        "outputId": "f4d74df8-1fb2-465b-f200-3557787d8c52"
      },
      "source": [
        "from sklearn.metrics import silhouette_score\n",
        "from sklearn.cluster import KMeans\n",
        "\n",
        "# Here, we use Silhouette scores to determine the optimal number of clusters for K Means clustering\n",
        "# THIS IS WITHOUT USING DYNAMIC TIME WARPING\n",
        "\n",
        "sil = []    # Array to store silhouette values\n",
        "kmax = 20\n",
        "k_range = range(2,kmax+1) # We set the minimum number of clusters to 2, because otherwise, we will not be able to find dissimilarities\n",
        "\n",
        "for k in k_range:\n",
        "  kmeans = KMeans(n_clusters = k).fit(frame_au_2d)\n",
        "  labels = kmeans.labels_\n",
        "  sil.append(silhouette_score(frame_au_2d, labels, metric = 'euclidean'))\n",
        "\n",
        "# Plot the graph of k-values versus Silhouette scores\n",
        "plt.plot(k_range,sil)"
      ],
      "execution_count": 189,
      "outputs": [
        {
          "output_type": "execute_result",
          "data": {
            "text/plain": [
              "[<matplotlib.lines.Line2D at 0x7f6d3652feb8>]"
            ]
          },
          "metadata": {
            "tags": []
          },
          "execution_count": 189
        },
        {
          "output_type": "display_data",
          "data": {
            "image/png": "[encoded data removed]",
            "text/plain": [
              "<Figure size 432x288 with 1 Axes>"
            ]
          },
          "metadata": {
            "tags": []
          }
        }
      ]
    },
    {
      "cell_type": "code",
      "metadata": {
        "id": "Ij5bAyrxkJt0",
        "colab_type": "code",
        "colab": {}
      },
      "source": [
        "# From the graph computed above, we find that the Silhouette scores are maximum for number of clusters = 2\n",
        "# Now, we will find optimal number of cluster WITH Dynamic Time Warping"
      ],
      "execution_count": null,
      "outputs": []
    },
    {
      "cell_type": "code",
      "metadata": {
        "id": "1SEcl_z6cVq1",
        "colab_type": "code",
        "colab": {}
      },
      "source": [
        "# Install tslearn\n",
        "! pip install tslearn"
      ],
      "execution_count": null,
      "outputs": []
    },
    {
      "cell_type": "code",
      "metadata": {
        "id": "zutKVuHYcY9p",
        "colab_type": "code",
        "colab": {}
      },
      "source": [
        "from tslearn.clustering import TimeSeriesKMeans, silhouette_score\n",
        "\n",
        "# Generate the K-Means model, using the distance metric Dynamic Time Warping\n",
        "# Number of clusters = 2 (considering the value computed by the calculation given above)\n",
        "km = TimeSeriesKMeans(n_clusters=2, metric=\"dtw\")\n",
        "labels = km.fit_predict(frame_au_2d)\n",
        "\n",
        "# Compute Silhouette Score for the model\n",
        "silhouette_score(frame_au_2d, labels, metric=\"dtw\")\n",
        "\n",
        "# NOTE: This cell usually takes over an hour to run, on my device"
      ],
      "execution_count": null,
      "outputs": []
    },
    {
      "cell_type": "code",
      "metadata": {
        "id": "b_ancylMl4qn",
        "colab_type": "code",
        "colab": {}
      },
      "source": [
        "# The Silhouette Score for number of clusters = 2 was 0.52419\n",
        "# The Silhouette Score for number of clusters = 3 was 0.42193\n",
        "# NOTE: The reason I was not able to compute Silhouette Values for larger number of clusters is that it took over 80 minutes\n",
        "# to compute it for only one value of number of clusters \n",
        "\n",
        "# We can see these Sihouette scores following a similar trend as the computations done before\n",
        "# So we will consider n_clusters = 2 as the optimal value"
      ],
      "execution_count": null,
      "outputs": []
    },
    {
      "cell_type": "code",
      "metadata": {
        "id": "3jjgIhuGcmoU",
        "colab_type": "code",
        "colab": {
          "base_uri": "https://localhost:8080/",
          "height": 325
        },
        "outputId": "c4ff3fd4-f0a8-4957-938c-03cfa7485d9e"
      },
      "source": [
        "from tslearn.clustering import TimeSeriesKMeans\n",
        "\n",
        "# Generate the K-Means model\n",
        "# Using the distance metric Dynamic Time Warping\n",
        "kmodel = TimeSeriesKMeans(n_clusters=2, metric=\"dtw\").fit(frame_au_2d)   # Can change the n_clusters to visualize for different values\n",
        "y_kmodel = kmodel.predict(frame_au_2d)\n",
        "\n",
        "# I used .predict() by assigning to various row values of the csv to see which cluster a data belongs to, to find out which social signal it represents\n",
        "\n",
        "plt.scatter(frame_au_2d[:, 0], frame_au_2d[:, 1], c=y_kmodel, s=50, cmap='viridis');\n",
        "centers = kmodel.cluster_centers_\n",
        "plt.scatter(centers[:, 0], centers[:, 1], c='black', s=200, alpha=0.5);"
      ],
      "execution_count": 191,
      "outputs": [
        {
          "output_type": "stream",
          "text": [
            "/usr/local/lib/python3.6/dist-packages/tslearn/utils.py:91: UserWarning: 2-Dimensional data passed. Assuming these are 2890 1-dimensional timeseries\n",
            "  '{} 1-dimensional timeseries'.format(X.shape[0]))\n"
          ],
          "name": "stderr"
        },
        {
          "output_type": "display_data",
          "data": {
            "image/png": "[encoded data removed]",
            "text/plain": [
              "<Figure size 432x288 with 1 Axes>"
            ]
          },
          "metadata": {
            "tags": []
          }
        }
      ]
    },
    {
      "cell_type": "code",
      "metadata": {
        "id": "kEjo15AYX7yj",
        "colab_type": "code",
        "colab": {}
      },
      "source": [
        "# I plotted and manually visualized the K-Means model for various values of n_clusters\n",
        "# and still ended up with n_clusters = 2 as the best visible fit"
      ],
      "execution_count": null,
      "outputs": []
    },
    {
      "cell_type": "code",
      "metadata": {
        "id": "aAJuop_JKLI3",
        "colab_type": "code",
        "colab": {}
      },
      "source": [
        "# I used .predict() by assigning to various row values of the csv to see which cluster a data belongs to and\n",
        "# to find out which social signal it represents\n",
        "print(y_kmodel[0])\n",
        "\n",
        "# The index in the above line can be changed accordingly"
      ],
      "execution_count": null,
      "outputs": []
    },
    {
      "cell_type": "code",
      "metadata": {
        "id": "g3D79PNDAZCA",
        "colab_type": "code",
        "colab": {}
      },
      "source": [
        "# I analyzed the gif files and the K-Means model manually and observed the presence of social signals\n",
        "# I observed several social signals while observing the clips, while some of them seem to be present in almost all the clips\n",
        "# For instance, Smiling with wide open mouth, Face movement while smiling seem to be present in majority of the clips, so\n",
        "# these signals can't be used for differentiation\n",
        "\n",
        "# However, I found some signals which were different\n",
        "# The ones that I found are Body Movement and Hand Movement "
      ],
      "execution_count": null,
      "outputs": []
    },
    {
      "cell_type": "code",
      "metadata": {
        "id": "cMRx7jpJBGBw",
        "colab_type": "code",
        "colab": {}
      },
      "source": [
        "# Task 3:\n",
        "# I choose to analyze the social signal of BODY MOVEMENT\n",
        "\n",
        "# I observed that clips in the cluster[0] involved Body Movement, while the clips in cluster[1] involved minimal to no Body Movement at all\n",
        "# So I chose to examine this social signal further \n",
        "\n",
        "# I will first create the test and training datasets with a total of 30 examples\n",
        "# They include the examples with and without my chosen social signal"
      ],
      "execution_count": null,
      "outputs": []
    },
    {
      "cell_type": "code",
      "metadata": {
        "id": "bQ4uEVUrVU6V",
        "colab_type": "code",
        "colab": {}
      },
      "source": [
        "# To create the Training data frame\n",
        "\n",
        "# Set the path to the csv files\n",
        "path = r'/content/drive/My Drive/training_dataset'\n",
        "all_files_train = glob.glob(path + \"/*.csv\")\n",
        "\n",
        "train_li = []\n",
        "\n",
        "# Read and append csv files to create a large dataframe\n",
        "for filename in all_files_train:\n",
        "    df = pd.read_csv(filename, index_col=None, header=0)\n",
        "    df[\"file_name\"] = str(filename)[38:-4]\n",
        "    train_li.append(df)\n",
        "\n",
        "# Concatenate the dataframe together\n",
        "frame_train = pd.concat(train_li, axis=0, ignore_index=True)\n",
        "\n",
        "# Convert the dataframe into a csv file (if needed)\n",
        "# frame_train.to_csv(r'/content/drive/My Drive/dframe_train.csv', index = False)"
      ],
      "execution_count": 192,
      "outputs": []
    },
    {
      "cell_type": "code",
      "metadata": {
        "id": "YIgukw0RY0CP",
        "colab_type": "code",
        "colab": {}
      },
      "source": [
        "# To create the Test data frame\n",
        "\n",
        "# Set the path to the csv files\n",
        "path = r'/content/drive/My Drive/test_dataset'\n",
        "all_files_test = glob.glob(path + \"/*.csv\")\n",
        "\n",
        "test_li = []\n",
        "\n",
        "# Read and append csv files to create a large dataframe\n",
        "for filename in all_files_test:\n",
        "    df = pd.read_csv(filename, index_col=None, header=0)\n",
        "    df[\"file_name\"] = str(filename)[38:-4]\n",
        "    test_li.append(df)\n",
        "\n",
        "# Concatenate the dataframe together\n",
        "frame_test = pd.concat(test_li, axis=0, ignore_index=True)\n",
        "\n",
        "# Convert the dataframe into a csv file (if needed)\n",
        "#frame_test.to_csv(r'/content/drive/My Drive/dframe_test.csv', index = False)"
      ],
      "execution_count": 193,
      "outputs": []
    },
    {
      "cell_type": "code",
      "metadata": {
        "id": "-oj8Z7TgZp-R",
        "colab_type": "code",
        "colab": {}
      },
      "source": [
        "# Make a column list which considers the columns with AUs in csv files\n",
        "colList = [' AU01_r',' AU02_r',' AU04_r',' AU05_r',' AU06_r',' AU07_r',' AU09_r',' AU10_r',' AU12_r',' AU14_r',' AU15_r',' AU17_r',' AU20_r',' AU23_r',' AU25_r',' AU26_r',' AU45_r',' AU01_c',' AU02_c',' AU04_c',' AU05_c',' AU06_c',' AU07_c',' AU09_c',' AU10_c',' AU12_c',' AU14_c',' AU15_c',' AU17_c',' AU20_c',' AU23_c',' AU25_c',' AU26_c',' AU28_c',' AU45_c',]\n",
        "f_au_train = frame_train[colList]\n",
        "f_au_test = frame_test[colList]"
      ],
      "execution_count": 194,
      "outputs": []
    },
    {
      "cell_type": "code",
      "metadata": {
        "id": "pqTy1YQ2ZXa8",
        "colab_type": "code",
        "colab": {}
      },
      "source": [
        "# Apply UMAP to Train and Test Data\n",
        "f_train_2d = umap.UMAP(n_neighbors=2).fit_transform(f_au_train)\n",
        "f_test_2d = umap.UMAP(n_neighbors=2).fit_transform(f_au_test)\n",
        "\n",
        "# I found out n_neighbors=2 as a decent value, since we have very less number of clusters\n",
        "# Also, the model seems to perform better with this value"
      ],
      "execution_count": 195,
      "outputs": []
    },
    {
      "cell_type": "code",
      "metadata": {
        "id": "GIXbHMG6av4P",
        "colab_type": "code",
        "colab": {
          "base_uri": "https://localhost:8080/",
          "height": 323
        },
        "outputId": "4dcb7b9e-894a-4d53-e7bd-658e5df8e4fc"
      },
      "source": [
        "# Applying K-Means on Train Data\n",
        "# K-Means using DTW and n_clusters=2\n",
        "\n",
        "kmodel_train = TimeSeriesKMeans(n_clusters=2, metric=\"dtw\").fit(f_train_2d)\n",
        "y_kmodel_train = kmodel.predict(f_train_2d)\n",
        "\n",
        "plt.scatter(f_train_2d[:, 0], f_train_2d[:, 1], c=y_kmodel_train, s=50, cmap='viridis');\n",
        "centers_tr = kmodel_train.cluster_centers_\n",
        "plt.scatter(centers_tr[:, 0], centers_tr[:, 1], c='black', s=200, alpha=0.5);"
      ],
      "execution_count": 200,
      "outputs": [
        {
          "output_type": "stream",
          "text": [
            "/usr/local/lib/python3.6/dist-packages/tslearn/utils.py:91: UserWarning: 2-Dimensional data passed. Assuming these are 756 1-dimensional timeseries\n",
            "  '{} 1-dimensional timeseries'.format(X.shape[0]))\n"
          ],
          "name": "stderr"
        },
        {
          "output_type": "display_data",
          "data": {
            "image/png": "[encoded data removed]",
            "text/plain": [
              "<Figure size 432x288 with 1 Axes>"
            ]
          },
          "metadata": {
            "tags": []
          }
        }
      ]
    },
    {
      "cell_type": "code",
      "metadata": {
        "id": "mpTN5ckdbTiw",
        "colab_type": "code",
        "colab": {
          "base_uri": "https://localhost:8080/",
          "height": 323
        },
        "outputId": "457ffd16-33b2-40d7-e91d-c60f57e7dcd0"
      },
      "source": [
        "# Applying K-Means on Test Data\n",
        "# K-Means using DTW and n_clusters=2\n",
        "kmodel_test = TimeSeriesKMeans(n_clusters=2, metric=\"dtw\").fit(f_test_2d)\n",
        "y_kmodel_test = kmodel.predict(f_test_2d)\n",
        "\n",
        "plt.scatter(f_test_2d[:, 0], f_test_2d[:, 1], c=y_kmodel_test, s=50, cmap='viridis');\n",
        "centers_te = kmodel_test.cluster_centers_\n",
        "plt.scatter(centers_te[:, 0], centers_te[:, 1], c='black', s=200, alpha=0.5);\n",
        " \n",
        "# Error: This graph mostly shows two clusters\n",
        "# However, it may sometimes show just one cluster, but I have not been able to figure out the reason for this\n",
        "# Recreating the Test Dataframe usually helps to correct this error, but I'm not sure why this is the case\n",
        "# Also, altering the n_neighbors value in UMAP helps to overcome this error\n",
        "# which is the reason I chose n_neighbors = 2 as the optimal value for this"
      ],
      "execution_count": 201,
      "outputs": [
        {
          "output_type": "stream",
          "text": [
            "/usr/local/lib/python3.6/dist-packages/tslearn/utils.py:91: UserWarning: 2-Dimensional data passed. Assuming these are 117 1-dimensional timeseries\n",
            "  '{} 1-dimensional timeseries'.format(X.shape[0]))\n"
          ],
          "name": "stderr"
        },
        {
          "output_type": "display_data",
          "data": {
            "image/png": "[encoded data removed]",
            "text/plain": [
              "<Figure size 432x288 with 1 Axes>"
            ]
          },
          "metadata": {
            "tags": []
          }
        }
      ]
    },
    {
      "cell_type": "code",
      "metadata": {
        "id": "zfqnT5hcM7bx",
        "colab_type": "code",
        "colab": {}
      },
      "source": [
        "# K-Nearest Neighbor for Train Data\n",
        "# K=1\n",
        "from tslearn.neighbors import KNeighborsTimeSeries\n",
        "knn_tr = KNeighborsTimeSeries(n_neighbors=1)\n",
        "knn_tr.fit(f_train_2d)\n",
        "\n",
        "# Print K-Nearest Neighbors\n",
        "print(knn_tr.kneighbors(f_train_2d))\n",
        "\n",
        "# Print K-Nearest Neighbors Graph\n",
        "print(knn_tr.kneighbors_graph(f_train_2d))"
      ],
      "execution_count": null,
      "outputs": []
    },
    {
      "cell_type": "code",
      "metadata": {
        "id": "2r1n-txOcLRv",
        "colab_type": "code",
        "colab": {}
      },
      "source": [
        "# K-Nearest Neighbor for Test Data\n",
        "# K=1\n",
        "from tslearn.neighbors import KNeighborsTimeSeries\n",
        "knn_te = KNeighborsTimeSeries(n_neighbors=1)\n",
        "knn_te.fit(f_test_2d)\n",
        "# Print K-Nearest Neighbors\n",
        "print(knn_te.kneighbors(f_test_2d))\n",
        "\n",
        "# Print K-Nearest Neighbors Graph\n",
        "print(knn_te.kneighbors_graph(f_test_2d))"
      ],
      "execution_count": null,
      "outputs": []
    },
    {
      "cell_type": "code",
      "metadata": {
        "id": "UF08hB68fOd6",
        "colab_type": "code",
        "colab": {}
      },
      "source": [
        "# Concatenate train and test data into one, for 5-fold Cross Validation\n",
        "\n",
        "# NOTE: Making a new dataframe for k-fold might not be required, but could not find another way to figure this out.\n",
        "\n",
        "# Set the path to the csv files\n",
        "path = r'/content/drive/My Drive/fold_dataset'\n",
        "all_files_fold = glob.glob(path + \"/*.csv\")\n",
        "\n",
        "fold_li = []\n",
        "\n",
        "# Read and append csv files to create a large dataframe\n",
        "for filename in all_files_fold:\n",
        "    df = pd.read_csv(filename, index_col=None, header=0)\n",
        "    df[\"file_name\"] = str(filename)[38:-4]\n",
        "    fold_li.append(df)\n",
        "\n",
        "# Concatenate the dataframe together\n",
        "frame_fold = pd.concat(fold_li, axis=0, ignore_index=True)\n",
        "\n",
        "colList = [' AU01_r',' AU02_r',' AU04_r',' AU05_r',' AU06_r',' AU07_r',' AU09_r',' AU10_r',' AU12_r',' AU14_r',' AU15_r',' AU17_r',' AU20_r',' AU23_r',' AU25_r',' AU26_r',' AU45_r',' AU01_c',' AU02_c',' AU04_c',' AU05_c',' AU06_c',' AU07_c',' AU09_c',' AU10_c',' AU12_c',' AU14_c',' AU15_c',' AU17_c',' AU20_c',' AU23_c',' AU25_c',' AU26_c',' AU28_c',' AU45_c',]\n",
        "f_fold_au = frame_fold[colList]\n",
        "\n",
        "# Apply UMAP\n",
        "f_fold_2d = umap.UMAP(n_neighbors=15).fit_transform(f_fold_au)\n",
        "\n"
      ],
      "execution_count": 198,
      "outputs": []
    },
    {
      "cell_type": "code",
      "metadata": {
        "id": "4sJTHqemeUoC",
        "colab_type": "code",
        "colab": {}
      },
      "source": [
        "# 5-fold Cross Validation for data\n",
        "\n",
        "from sklearn.model_selection import KFold\n",
        "kf_fold = KFold(n_splits=5)\n",
        "kf_fold.get_n_splits(f_fold_2d)\n",
        "\n",
        "print(kf_fold)\n",
        "for train_index, test_index in kf_fold.split(f_fold_2d):\n",
        "       print(\"TRAIN:\", train_index, \"TEST:\", test_index)"
      ],
      "execution_count": null,
      "outputs": []
    }
  ]
}
